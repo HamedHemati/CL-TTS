{
 "cells": [
  {
   "cell_type": "code",
   "execution_count": 20,
   "metadata": {
    "collapsed": true
   },
   "outputs": [],
   "source": [
    "import torch\n",
    "\n",
    "from cl_tts.utils.generic import load_params\n",
    "from cl_tts.models.tacotron2_nv import get_tacotron2_nv"
   ]
  },
  {
   "cell_type": "code",
   "execution_count": 5,
   "outputs": [],
   "source": [
    "params_path = \"../hparams/speaker_incremental/naive.yml\"\n",
    "params = load_params(params_path)\n",
    "n_symbols = 100\n",
    "n_speakers = 5\n",
    "model = get_tacotron2_nv(params=params, n_symbols=n_symbols, n_speakers=n_speakers)"
   ],
   "metadata": {
    "collapsed": false,
    "pycharm": {
     "name": "#%%\n"
    }
   }
  },
  {
   "cell_type": "markdown",
   "source": [
    "### Model forward"
   ],
   "metadata": {
    "collapsed": false
   }
  },
  {
   "cell_type": "code",
   "execution_count": 14,
   "outputs": [],
   "source": [
    "inputs = torch.randint(low=0, high=n_symbols, size=(3, 10))\n",
    "input_lengths = torch.LongTensor([10, 8, 5])\n",
    "melspecs = torch.randn(3, 128, 500)\n",
    "melspec_lengths = torch.LongTensor([480, 500, 230])\n",
    "speaker_ids = torch.LongTensor([0, 3, 2])\n",
    "\n",
    "out = model(\n",
    "    inputs=inputs,\n",
    "    input_lengths=input_lengths,\n",
    "    melspecs=melspecs,\n",
    "    melspec_lengths=melspec_lengths,\n",
    "    speaker_ids=speaker_ids\n",
    ")"
   ],
   "metadata": {
    "collapsed": false,
    "pycharm": {
     "name": "#%%\n"
    }
   }
  },
  {
   "cell_type": "markdown",
   "source": [
    "### Model inference"
   ],
   "metadata": {
    "collapsed": false
   }
  },
  {
   "cell_type": "code",
   "execution_count": 18,
   "outputs": [
    {
     "name": "stdout",
     "output_type": "stream",
     "text": [
      "Warning! Reached max decoder steps\n"
     ]
    }
   ],
   "source": [
    "inputs = torch.randint(low=0, high=n_symbols, size=(3, 10))\n",
    "input_lengths = torch.LongTensor([10, 8, 5])\n",
    "speaker_ids = torch.LongTensor([0, 3, 2])\n",
    "\n",
    "out = model.infer(\n",
    "    inputs=inputs,\n",
    "    input_lengths=input_lengths,\n",
    "    speaker_ids=speaker_ids\n",
    ")"
   ],
   "metadata": {
    "collapsed": false,
    "pycharm": {
     "name": "#%%\n"
    }
   }
  },
  {
   "cell_type": "code",
   "execution_count": null,
   "outputs": [],
   "source": [],
   "metadata": {
    "collapsed": false,
    "pycharm": {
     "name": "#%%\n"
    }
   }
  }
 ],
 "metadata": {
  "kernelspec": {
   "display_name": "Python 3",
   "language": "python",
   "name": "python3"
  },
  "language_info": {
   "codemirror_mode": {
    "name": "ipython",
    "version": 2
   },
   "file_extension": ".py",
   "mimetype": "text/x-python",
   "name": "python",
   "nbconvert_exporter": "python",
   "pygments_lexer": "ipython2",
   "version": "2.7.6"
  }
 },
 "nbformat": 4,
 "nbformat_minor": 0
}