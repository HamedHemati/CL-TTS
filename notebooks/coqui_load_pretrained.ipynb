{
 "cells": [
  {
   "cell_type": "code",
   "execution_count": 119,
   "metadata": {
    "collapsed": true
   },
   "outputs": [],
   "source": [
    "import sys\n",
    "sys.path.append(\"..\")\n",
    "\n",
    "import os\n",
    "import copy\n",
    "import torch\n",
    "from TTS.utils.audio import AudioProcessor\n",
    "from TTS.utils.manage import ModelManager\n",
    "from TTS.config import load_config\n",
    "from TTS.tts.models import setup_model as setup_tts_model\n",
    "from TTS.vocoder.models import setup_model as setup_vocoder_model\n",
    "from TTS.vocoder.utils.generic_utils import interpolate_vocoder_input\n",
    "\n",
    "from TTS.tts.models.tacotron2 import Tacotron2\n",
    "from TTS.tts.configs.tacotron2_config import Tacotron2Config\n",
    "from TTS.tts.utils.text.tokenizer import TTSTokenizer\n",
    "from TTS.tts.utils.speakers import SpeakerManager\n",
    "from TTS.utils.audio import AudioProcessor\n",
    "\n",
    "from cl_tts.utils.plot_utils import plot_spectrogram\n"
   ]
  },
  {
   "cell_type": "code",
   "execution_count": 134,
   "outputs": [
    {
     "name": "stdout",
     "output_type": "stream",
     "text": [
      " > tts_models/en/ljspeech/tacotron2-DCA is already downloaded.\n",
      " > Using model: Tacotron2\n",
      " > Setting up Audio Processor...\n",
      " | > sample_rate:22050\n",
      " | > resample:False\n",
      " | > num_mels:80\n",
      " | > log_func:np.log10\n",
      " | > min_level_db:-100\n",
      " | > frame_shift_ms:None\n",
      " | > frame_length_ms:None\n",
      " | > ref_level_db:20\n",
      " | > fft_size:1024\n",
      " | > power:1.5\n",
      " | > preemphasis:0.0\n",
      " | > griffin_lim_iters:60\n",
      " | > signal_norm:True\n",
      " | > symmetric_norm:True\n",
      " | > mel_fmin:50.0\n",
      " | > mel_fmax:7600.0\n",
      " | > pitch_fmin:0.0\n",
      " | > pitch_fmax:640.0\n",
      " | > spec_gain:1.0\n",
      " | > stft_pad_mode:reflect\n",
      " | > max_norm:4.0\n",
      " | > clip_norm:True\n",
      " | > do_trim_silence:True\n",
      " | > trim_db:60\n",
      " | > do_sound_norm:False\n",
      " | > do_amp_to_db_linear:True\n",
      " | > do_amp_to_db_mel:True\n",
      " | > do_rms_norm:False\n",
      " | > db_level:None\n",
      " | > stats_path:../data/pretrained_models/tts/tts_models--en--ljspeech--tacotron2-DCA/scale_stats.npy\n",
      " | > base:10\n",
      " | > hop_length:256\n",
      " | > win_length:1024\n",
      " > Model's reduction rate `r` is set to: 2\n",
      " > vocoder_models/universal/libri-tts/fullband-melgan is already downloaded.\n",
      " > Vocoder Model: fullband_melgan\n",
      " > Setting up Audio Processor...\n",
      " | > sample_rate:24000\n",
      " | > resample:False\n",
      " | > num_mels:80\n",
      " | > log_func:np.log10\n",
      " | > min_level_db:-100\n",
      " | > frame_shift_ms:None\n",
      " | > frame_length_ms:None\n",
      " | > ref_level_db:0\n",
      " | > fft_size:1024\n",
      " | > power:1.5\n",
      " | > preemphasis:0.0\n",
      " | > griffin_lim_iters:60\n",
      " | > signal_norm:True\n",
      " | > symmetric_norm:True\n",
      " | > mel_fmin:50.0\n",
      " | > mel_fmax:7600.0\n",
      " | > pitch_fmin:0.0\n",
      " | > pitch_fmax:640.0\n",
      " | > spec_gain:1.0\n",
      " | > stft_pad_mode:reflect\n",
      " | > max_norm:4.0\n",
      " | > clip_norm:True\n",
      " | > do_trim_silence:True\n",
      " | > trim_db:60\n",
      " | > do_sound_norm:False\n",
      " | > do_amp_to_db_linear:True\n",
      " | > do_amp_to_db_mel:True\n",
      " | > do_rms_norm:False\n",
      " | > db_level:None\n",
      " | > stats_path:../data/pretrained_models/tts/vocoder_models--universal--libri-tts--fullband-melgan/scale_stats.npy\n",
      " | > base:10\n",
      " | > hop_length:256\n",
      " | > win_length:1024\n",
      " > Generator Model: fullband_melgan_generator\n",
      " > Discriminator Model: melgan_multiscale_discriminator\n"
     ]
    }
   ],
   "source": [
    "model_manager = ModelManager(output_prefix=\"../data/pretrained_models/\")\n",
    "\n",
    "# TTS Model\n",
    "checkpoint_path_tts, config_path_tts, model_item_tts  = model_manager.download_model(\"tts_models/en/ljspeech/tacotron2-DCA\")\n",
    "tts_config = load_config(config_path_tts)\n",
    "tts_model = setup_tts_model(config=tts_config)\n",
    "tts_model.load_checkpoint(tts_config, checkpoint_path_tts, eval=True)\n",
    "\n",
    "# Vocoder\n",
    "checkpoint_path_vocoder, config_path_vocoder, model_item_vocoder  = model_manager.download_model(\"vocoder_models/universal/libri-tts/fullband-melgan\")\n",
    "vocoder_config = load_config(config_path_vocoder)\n",
    "vocoder_ap = AudioProcessor(verbose=False, **vocoder_config.audio)\n",
    "vocoder_model = setup_vocoder_model(vocoder_config)\n",
    "vocoder_model.load_checkpoint(vocoder_config, checkpoint_path_vocoder, eval=True)\n"
   ],
   "metadata": {
    "collapsed": false,
    "pycharm": {
     "name": "#%%\n"
    }
   }
  },
  {
   "cell_type": "code",
   "execution_count": 146,
   "outputs": [
    {
     "name": "stdout",
     "output_type": "stream",
     "text": [
      " > Setting up Audio Processor...\n",
      " | > sample_rate:24000\n",
      " | > resample:True\n",
      " | > num_mels:80\n",
      " | > log_func:np.log10\n",
      " | > min_level_db:-100\n",
      " | > frame_shift_ms:None\n",
      " | > frame_length_ms:None\n",
      " | > ref_level_db:0\n",
      " | > fft_size:1024\n",
      " | > power:1.5\n",
      " | > preemphasis:0.0\n",
      " | > griffin_lim_iters:60\n",
      " | > signal_norm:True\n",
      " | > symmetric_norm:True\n",
      " | > mel_fmin:50.0\n",
      " | > mel_fmax:7600.0\n",
      " | > pitch_fmin:0.0\n",
      " | > pitch_fmax:640.0\n",
      " | > spec_gain:1.0\n",
      " | > stft_pad_mode:reflect\n",
      " | > max_norm:4.0\n",
      " | > clip_norm:True\n",
      " | > do_trim_silence:True\n",
      " | > trim_db:60\n",
      " | > do_sound_norm:False\n",
      " | > do_amp_to_db_linear:True\n",
      " | > do_amp_to_db_mel:True\n",
      " | > do_rms_norm:False\n",
      " | > db_level:None\n",
      " | > stats_path:../data/pretrained_models/tts/vocoder_models--universal--libri-tts--fullband-melgan/scale_stats.npy\n",
      " | > base:10\n",
      " | > hop_length:256\n",
      " | > win_length:1024\n"
     ]
    }
   ],
   "source": [
    "params = {\"sample_rate\": 24000, \"resample\": True}\n",
    "\n",
    "ds_path = \"/raid/hhemati/Datasets/Speech/CL-TTS/VCTK/\"\n",
    "config = copy.copy(tts_config)\n",
    "\n",
    "config.text_cleaner = \"phoneme_cleaners\"\n",
    "config.use_phonemes = True\n",
    "config.phoneme_language = \"en-us\"\n",
    "config.phoneme_cache_path = os.path.join(ds_path, \"phonemes\")\n",
    "config.use_d_vector_file = True\n",
    "config.d_vector_dim = 256\n",
    "\n",
    "config.audio = copy.copy(vocoder_config.audio)\n",
    "config.audio.sample_rate = params[\"sample_rate\"]\n",
    "config.audio.resample = params[\"resample\"]\n",
    "\n",
    "ap = AudioProcessor.init_from_config(config)\n",
    "tokenizer, config = TTSTokenizer.init_from_config(config)\n",
    "d_vectors_file_path = os.path.join(ds_path, \"speaker_embedding_means.json\")\n",
    "speaker_manager = SpeakerManager(d_vectors_file_path=d_vectors_file_path)\n",
    "model_new = Tacotron2(config, ap, tokenizer, speaker_manager=speaker_manager)"
   ],
   "metadata": {
    "collapsed": false,
    "pycharm": {
     "name": "#%%\n"
    }
   }
  },
  {
   "cell_type": "code",
   "execution_count": 155,
   "outputs": [
    {
     "name": "stdout",
     "output_type": "stream",
     "text": [
      "Copying model weights from the pre-trained model ...\n",
      "Could not copy weights for  decoder.attention_rnn.weight_ih\n",
      "Could not copy weights for  decoder.decoder_rnn.weight_ih\n",
      "Could not copy weights for  decoder.linear_projection.linear_layer.weight\n"
     ]
    }
   ],
   "source": [
    "# Copy weights from the pre-trained model to the new model\n",
    "print(\"Copying model weights from a pre-trained model ...\")\n",
    "for (n1, p1), (n2, p2) in zip(model_new.named_parameters(),\n",
    "                              tts_model.named_parameters()):\n",
    "    if p1.shape == p2.shape:\n",
    "        p1.data.copy_(p2.data)\n",
    "    else:\n",
    "        print(\"Could not copy weights for \", n1)\n"
   ],
   "metadata": {
    "collapsed": false,
    "pycharm": {
     "name": "#%%\n"
    }
   }
  },
  {
   "cell_type": "code",
   "execution_count": 94,
   "outputs": [
    {
     "data": {
      "text/plain": "torch.Size([1, 132, 80])"
     },
     "execution_count": 94,
     "metadata": {},
     "output_type": "execute_result"
    }
   ],
   "source": [
    "tts_model.eval()\n",
    "text = tts_model.tokenizer.text_to_ids(\"This is a sample text.\")\n",
    "text = torch.LongTensor(text).unsqueeze(0)\n",
    "\n",
    "outputs = tts_model.inference(text)\n",
    "outputs[\"model_outputs\"].shape"
   ],
   "metadata": {
    "collapsed": false,
    "pycharm": {
     "name": "#%%\n"
    }
   }
  },
  {
   "cell_type": "code",
   "execution_count": 105,
   "outputs": [
    {
     "name": "stdout",
     "output_type": "stream",
     "text": [
      " > interpolating tts model output.\n",
      " > before interpolation : (80, 132)\n",
      " > after interpolation : torch.Size([1, 80, 143])\n"
     ]
    },
    {
     "data": {
      "text/plain": "<Figure size 864x432 with 1 Axes>",
      "image/png": "[encoded data removed]"
     },
     "execution_count": 105,
     "metadata": {},
     "output_type": "execute_result"
    }
   ],
   "source": [
    "mel_postnet_spec = outputs[\"model_outputs\"][0].detach().cpu().numpy()\n",
    "mel_postnet_spec = tts_model.ap.denormalize(mel_postnet_spec.T).T\n",
    "vocoder_input = vocoder_ap.normalize(mel_postnet_spec.T)\n",
    "scale_factor = [1, vocoder_config[\"audio\"][\"sample_rate\"] / tts_model.ap.sample_rate,]\n",
    "\n",
    "if scale_factor[1] != 1:\n",
    "    print(\" > interpolating tts model output.\")\n",
    "    vocoder_input = interpolate_vocoder_input(scale_factor, vocoder_input)\n",
    "else:\n",
    "    vocoder_input = torch.tensor(vocoder_input).unsqueeze(0)  # pylint: disable=not-callable\n",
    "\n",
    "waveform = vocoder_model.inference(vocoder_input)\n",
    "waveform = waveform.squeeze().numpy()\n",
    "tts_model.ap.save_wav(waveform, \"./out/sample.wav\", tts_config.audio.sample_rate)\n",
    "plot_spectrogram(mel_postnet_spec.T)"
   ],
   "metadata": {
    "collapsed": false,
    "pycharm": {
     "name": "#%%\n"
    }
   }
  },
  {
   "cell_type": "code",
   "execution_count": 156,
   "outputs": [
    {
     "data": {
      "text/plain": "(132, 80)"
     },
     "execution_count": 156,
     "metadata": {},
     "output_type": "execute_result"
    }
   ],
   "source": [
    "mel_postnet_spec.shape"
   ],
   "metadata": {
    "collapsed": false,
    "pycharm": {
     "name": "#%%\n"
    }
   }
  },
  {
   "cell_type": "code",
   "execution_count": 106,
   "outputs": [
    {
     "data": {
      "text/plain": "BaseAudioConfig(fft_size=1024, win_length=1024, hop_length=256, frame_shift_ms=None, frame_length_ms=None, stft_pad_mode='reflect', sample_rate=24000, resample=False, preemphasis=0.0, ref_level_db=0, do_sound_norm=False, log_func='np.log10', do_trim_silence=True, trim_db=60, do_rms_norm=False, db_level=None, power=1.5, griffin_lim_iters=60, num_mels=80, mel_fmin=50.0, mel_fmax=7600.0, spec_gain=1, do_amp_to_db_linear=True, do_amp_to_db_mel=True, pitch_fmax=640.0, pitch_fmin=0.0, signal_norm=True, min_level_db=-100, symmetric_norm=True, max_norm=4.0, clip_norm=True, stats_path='../data/pretrained_models/tts/vocoder_models--universal--libri-tts--fullband-melgan/scale_stats.npy')"
     },
     "execution_count": 106,
     "metadata": {},
     "output_type": "execute_result"
    }
   ],
   "source": [
    "vocoder_config.audio"
   ],
   "metadata": {
    "collapsed": false,
    "pycharm": {
     "name": "#%%\n"
    }
   }
  },
  {
   "cell_type": "code",
   "execution_count": 90,
   "outputs": [
    {
     "data": {
      "text/plain": "BaseAudioConfig(fft_size=1024, win_length=1024, hop_length=256, frame_shift_ms=None, frame_length_ms=None, stft_pad_mode='reflect', sample_rate=22050, resample=False, preemphasis=0.0, ref_level_db=20, do_sound_norm=False, log_func='np.log10', do_trim_silence=True, trim_db=60, do_rms_norm=False, db_level=None, power=1.5, griffin_lim_iters=60, num_mels=80, mel_fmin=50.0, mel_fmax=7600.0, spec_gain=1, do_amp_to_db_linear=True, do_amp_to_db_mel=True, pitch_fmax=640.0, pitch_fmin=0.0, signal_norm=True, min_level_db=-100, symmetric_norm=True, max_norm=4.0, clip_norm=True, stats_path='../data/pretrained_models/tts/tts_models--en--ljspeech--tacotron2-DCA/scale_stats.npy')"
     },
     "execution_count": 90,
     "metadata": {},
     "output_type": "execute_result"
    }
   ],
   "source": [
    "tts_config.audio"
   ],
   "metadata": {
    "collapsed": false,
    "pycharm": {
     "name": "#%%\n"
    }
   }
  },
  {
   "cell_type": "code",
   "execution_count": 93,
   "outputs": [
    {
     "data": {
      "text/plain": "BaseAudioConfig(fft_size=1024, win_length=1024, hop_length=256, frame_shift_ms=None, frame_length_ms=None, stft_pad_mode='reflect', sample_rate=22050, resample=False, preemphasis=0.0, ref_level_db=20, do_sound_norm=False, log_func='np.log10', do_trim_silence=True, trim_db=60, do_rms_norm=False, db_level=None, power=1.5, griffin_lim_iters=60, num_mels=80, mel_fmin=50.0, mel_fmax=7600.0, spec_gain=1, do_amp_to_db_linear=True, do_amp_to_db_mel=True, pitch_fmax=640.0, pitch_fmin=0.0, signal_norm=True, min_level_db=-100, symmetric_norm=True, max_norm=4.0, clip_norm=True, stats_path='../data/pretrained_models/tts/tts_models--en--ljspeech--tacotron2-DCA/scale_stats.npy')"
     },
     "execution_count": 93,
     "metadata": {},
     "output_type": "execute_result"
    }
   ],
   "source": [],
   "metadata": {
    "collapsed": false,
    "pycharm": {
     "name": "#%%\n"
    }
   }
  },
  {
   "cell_type": "code",
   "execution_count": null,
   "outputs": [],
   "source": [],
   "metadata": {
    "collapsed": false,
    "pycharm": {
     "name": "#%%\n"
    }
   }
  }
 ],
 "metadata": {
  "kernelspec": {
   "display_name": "Python 3",
   "language": "python",
   "name": "python3"
  },
  "language_info": {
   "codemirror_mode": {
    "name": "ipython",
    "version": 2
   },
   "file_extension": ".py",
   "mimetype": "text/x-python",
   "name": "python",
   "nbconvert_exporter": "python",
   "pygments_lexer": "ipython2",
   "version": "2.7.6"
  }
 },
 "nbformat": 4,
 "nbformat_minor": 0
}