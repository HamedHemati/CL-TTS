{
 "cells": [
  {
   "cell_type": "code",
   "execution_count": 1,
   "metadata": {
    "collapsed": true
   },
   "outputs": [],
   "source": [
    "import sys\n",
    "sys.path.append(\"..\")\n",
    "\n",
    "import os\n",
    "from torch.utils.data import DataLoader\n",
    "from cl_tts.utils.generic import load_params\n",
    "from cl_tts.models import get_model, get_model_config\n",
    "from cl_tts.benchmarks import get_benchmark"
   ]
  },
  {
   "cell_type": "code",
   "execution_count": 2,
   "outputs": [],
   "source": [
    "params_path = \"../params/spk_inc/vctk.yml\"\n",
    "params = load_params(params_path)[\"VCTK-SI[Tacotron2]\"]"
   ],
   "metadata": {
    "collapsed": false,
    "pycharm": {
     "name": "#%%\n"
    }
   }
  },
  {
   "cell_type": "code",
   "execution_count": 3,
   "outputs": [
    {
     "name": "stdout",
     "output_type": "stream",
     "text": [
      " > Setting up Audio Processor...\n",
      " | > sample_rate:22050\n",
      " | > resample:False\n",
      " | > num_mels:80\n",
      " | > log_func:np.log10\n",
      " | > min_level_db:-100\n",
      " | > frame_shift_ms:None\n",
      " | > frame_length_ms:None\n",
      " | > ref_level_db:20\n",
      " | > fft_size:1024\n",
      " | > power:1.5\n",
      " | > preemphasis:0.0\n",
      " | > griffin_lim_iters:60\n",
      " | > signal_norm:True\n",
      " | > symmetric_norm:True\n",
      " | > mel_fmin:0\n",
      " | > mel_fmax:None\n",
      " | > pitch_fmin:0.0\n",
      " | > pitch_fmax:640.0\n",
      " | > spec_gain:20.0\n",
      " | > stft_pad_mode:reflect\n",
      " | > max_norm:4.0\n",
      " | > clip_norm:True\n",
      " | > do_trim_silence:True\n",
      " | > trim_db:45\n",
      " | > do_sound_norm:False\n",
      " | > do_amp_to_db_linear:True\n",
      " | > do_amp_to_db_mel:True\n",
      " | > do_rms_norm:False\n",
      " | > db_level:None\n",
      " | > stats_path:None\n",
      " | > base:10\n",
      " | > hop_length:256\n",
      " | > win_length:1024\n",
      " | > Found 44070 files in /raid/hhemati/Datasets/Speech/CL-TTS/VCTK\n"
     ]
    }
   ],
   "source": [
    "ds_path = os.path.join(params[\"datasets_root\"], params[\"dataset_name\"])\n",
    "config = get_model_config(params, ds_path)\n",
    "\n",
    "benchmark, benchmark_meta, config = get_benchmark(params, ds_path, config)"
   ],
   "metadata": {
    "collapsed": false,
    "pycharm": {
     "name": "#%%\n"
    }
   }
  },
  {
   "cell_type": "code",
   "execution_count": 4,
   "outputs": [],
   "source": [
    "ds = benchmark.train_stream[0].dataset\n"
   ],
   "metadata": {
    "collapsed": false,
    "pycharm": {
     "name": "#%%\n"
    }
   }
  },
  {
   "cell_type": "code",
   "execution_count": 7,
   "outputs": [],
   "source": [
    "data_loader = DataLoader(\n",
    "    ds,\n",
    "    batch_size=32,\n",
    "    shuffle=False,  # shuffle is done in the dataset.\n",
    "    collate_fn=ds.collate_fn,\n",
    "    drop_last=False,  # setting this False might cause issues in AMP training.\n",
    "    sampler=None,\n",
    "    num_workers=0,\n",
    "    pin_memory=False,\n",
    ")"
   ],
   "metadata": {
    "collapsed": false,
    "pycharm": {
     "name": "#%%\n"
    }
   }
  },
  {
   "cell_type": "code",
   "execution_count": 8,
   "outputs": [
    {
     "data": {
      "text/plain": "{'token_id': tensor([[ 64,  22,  21,  ...,  21,  22, 126],\n         [  4,  64, 130,  ..., 126,   0,   0],\n         [  4,  64, 130,  ..., 126,   0,   0],\n         ...,\n         [ 18,  14,  11,  ...,   0,   0,   0],\n         [ 64,  22, 130,  ...,   0,   0,   0],\n         [ 44,  78, 130,  ...,   0,   0,   0]]),\n 'token_id_lengths': tensor([33, 31, 31, 29, 27, 23, 23, 23, 23, 22, 22, 22, 21, 21, 21, 21, 20, 20,\n         19, 19, 19, 19, 18, 18, 17, 16, 16, 16, 16, 15, 14, 10]),\n 'speaker_names': ['vctk_p335',\n  'vctk_p335',\n  'vctk_p335',\n  'vctk_p335',\n  'vctk_p335',\n  'vctk_p335',\n  'vctk_p335',\n  'vctk_p335',\n  'vctk_p335',\n  'vctk_p335',\n  'vctk_p335',\n  'vctk_p335',\n  'vctk_p335',\n  'vctk_p335',\n  'vctk_p335',\n  'vctk_p335',\n  'vctk_p335',\n  'vctk_p335',\n  'vctk_p335',\n  'vctk_p335',\n  'vctk_p335',\n  'vctk_p335',\n  'vctk_p335',\n  'vctk_p335',\n  'vctk_p335',\n  'vctk_p335',\n  'vctk_p335',\n  'vctk_p335',\n  'vctk_p335',\n  'vctk_p335',\n  'vctk_p335',\n  'vctk_p335'],\n 'linear': None,\n 'mel': tensor([[[ 0.3398, -0.9981, -1.9669,  ..., -4.0000, -4.0000, -4.0000],\n          [ 0.3369, -0.6758, -2.1384,  ..., -4.0000, -4.0000, -4.0000],\n          [ 0.2000, -0.7479, -1.6899,  ..., -4.0000, -4.0000, -4.0000],\n          ...,\n          [ 0.0000,  0.0000,  0.0000,  ...,  0.0000,  0.0000,  0.0000],\n          [ 0.0000,  0.0000,  0.0000,  ...,  0.0000,  0.0000,  0.0000],\n          [ 0.0000,  0.0000,  0.0000,  ...,  0.0000,  0.0000,  0.0000]],\n \n         [[-0.1723, -0.7302, -1.2837,  ..., -4.0000, -4.0000, -4.0000],\n          [-0.0082, -0.8417, -1.7385,  ..., -4.0000, -4.0000, -4.0000],\n          [ 0.2521, -1.1334, -1.7113,  ..., -4.0000, -4.0000, -4.0000],\n          ...,\n          [-0.3950, -0.9654, -1.6774,  ..., -4.0000, -4.0000, -4.0000],\n          [ 0.2328, -0.4316, -1.6630,  ..., -4.0000, -4.0000, -4.0000],\n          [ 0.1093, -0.3730, -1.8832,  ..., -4.0000, -4.0000, -4.0000]],\n \n         [[ 0.0606, -0.5648, -1.1288,  ..., -4.0000, -4.0000, -4.0000],\n          [ 0.3542, -0.8348, -1.5071,  ..., -4.0000, -4.0000, -4.0000],\n          [ 0.4149, -0.6336, -1.6755,  ..., -4.0000, -4.0000, -4.0000],\n          ...,\n          [ 0.0000,  0.0000,  0.0000,  ...,  0.0000,  0.0000,  0.0000],\n          [ 0.0000,  0.0000,  0.0000,  ...,  0.0000,  0.0000,  0.0000],\n          [ 0.0000,  0.0000,  0.0000,  ...,  0.0000,  0.0000,  0.0000]],\n \n         ...,\n \n         [[ 0.3630, -0.6331, -0.8244,  ..., -4.0000, -4.0000, -4.0000],\n          [ 0.7569, -0.5987, -1.1242,  ..., -4.0000, -4.0000, -4.0000],\n          [ 0.9721, -0.8444, -1.6859,  ..., -4.0000, -4.0000, -4.0000],\n          ...,\n          [ 0.0000,  0.0000,  0.0000,  ...,  0.0000,  0.0000,  0.0000],\n          [ 0.0000,  0.0000,  0.0000,  ...,  0.0000,  0.0000,  0.0000],\n          [ 0.0000,  0.0000,  0.0000,  ...,  0.0000,  0.0000,  0.0000]],\n \n         [[-1.4007, -1.4914, -2.0704,  ..., -4.0000, -4.0000, -4.0000],\n          [-0.5856, -1.1224, -2.1303,  ..., -4.0000, -4.0000, -4.0000],\n          [ 0.0326, -1.1239, -2.0437,  ..., -4.0000, -4.0000, -4.0000],\n          ...,\n          [ 0.0000,  0.0000,  0.0000,  ...,  0.0000,  0.0000,  0.0000],\n          [ 0.0000,  0.0000,  0.0000,  ...,  0.0000,  0.0000,  0.0000],\n          [ 0.0000,  0.0000,  0.0000,  ...,  0.0000,  0.0000,  0.0000]],\n \n         [[-0.8263, -0.9759, -1.8358,  ..., -4.0000, -4.0000, -4.0000],\n          [ 0.1026, -0.6173, -1.5964,  ..., -4.0000, -4.0000, -4.0000],\n          [ 0.2228, -0.7158, -1.6698,  ..., -4.0000, -4.0000, -4.0000],\n          ...,\n          [ 0.0000,  0.0000,  0.0000,  ...,  0.0000,  0.0000,  0.0000],\n          [ 0.0000,  0.0000,  0.0000,  ...,  0.0000,  0.0000,  0.0000],\n          [ 0.0000,  0.0000,  0.0000,  ...,  0.0000,  0.0000,  0.0000]]]),\n 'mel_lengths': tensor([234, 242, 234, 241, 238, 219, 220, 238, 234, 238, 238, 220, 223, 230,\n         205, 219, 234, 227, 223, 227, 227, 212, 227, 220, 227, 212, 209, 205,\n         205, 227, 205, 183]),\n 'stop_targets': tensor([[0., 0., 0.,  ..., 1., 1., 1.],\n         [0., 0., 0.,  ..., 0., 0., 1.],\n         [0., 0., 0.,  ..., 1., 1., 1.],\n         ...,\n         [0., 0., 0.,  ..., 1., 1., 1.],\n         [0., 0., 0.,  ..., 1., 1., 1.],\n         [0., 0., 0.,  ..., 1., 1., 1.]]),\n 'item_idxs': ['/raid/hhemati/Datasets/Speech/CL-TTS/VCTK/wavs/p335/p335_389.wav',\n  '/raid/hhemati/Datasets/Speech/CL-TTS/VCTK/wavs/p335/p335_052.wav',\n  '/raid/hhemati/Datasets/Speech/CL-TTS/VCTK/wavs/p335/p335_266.wav',\n  '/raid/hhemati/Datasets/Speech/CL-TTS/VCTK/wavs/p335/p335_257.wav',\n  '/raid/hhemati/Datasets/Speech/CL-TTS/VCTK/wavs/p335/p335_072.wav',\n  '/raid/hhemati/Datasets/Speech/CL-TTS/VCTK/wavs/p335/p335_189.wav',\n  '/raid/hhemati/Datasets/Speech/CL-TTS/VCTK/wavs/p335/p335_212.wav',\n  '/raid/hhemati/Datasets/Speech/CL-TTS/VCTK/wavs/p335/p335_405.wav',\n  '/raid/hhemati/Datasets/Speech/CL-TTS/VCTK/wavs/p335/p335_069.wav',\n  '/raid/hhemati/Datasets/Speech/CL-TTS/VCTK/wavs/p335/p335_171.wav',\n  '/raid/hhemati/Datasets/Speech/CL-TTS/VCTK/wavs/p335/p335_421.wav',\n  '/raid/hhemati/Datasets/Speech/CL-TTS/VCTK/wavs/p335/p335_103.wav',\n  '/raid/hhemati/Datasets/Speech/CL-TTS/VCTK/wavs/p335/p335_408.wav',\n  '/raid/hhemati/Datasets/Speech/CL-TTS/VCTK/wavs/p335/p335_407.wav',\n  '/raid/hhemati/Datasets/Speech/CL-TTS/VCTK/wavs/p335/p335_221.wav',\n  '/raid/hhemati/Datasets/Speech/CL-TTS/VCTK/wavs/p335/p335_081.wav',\n  '/raid/hhemati/Datasets/Speech/CL-TTS/VCTK/wavs/p335/p335_360.wav',\n  '/raid/hhemati/Datasets/Speech/CL-TTS/VCTK/wavs/p335/p335_338.wav',\n  '/raid/hhemati/Datasets/Speech/CL-TTS/VCTK/wavs/p335/p335_299.wav',\n  '/raid/hhemati/Datasets/Speech/CL-TTS/VCTK/wavs/p335/p335_337.wav',\n  '/raid/hhemati/Datasets/Speech/CL-TTS/VCTK/wavs/p335/p335_169.wav',\n  '/raid/hhemati/Datasets/Speech/CL-TTS/VCTK/wavs/p335/p335_115.wav',\n  '/raid/hhemati/Datasets/Speech/CL-TTS/VCTK/wavs/p335/p335_161.wav',\n  '/raid/hhemati/Datasets/Speech/CL-TTS/VCTK/wavs/p335/p335_251.wav',\n  '/raid/hhemati/Datasets/Speech/CL-TTS/VCTK/wavs/p335/p335_192.wav',\n  '/raid/hhemati/Datasets/Speech/CL-TTS/VCTK/wavs/p335/p335_064.wav',\n  '/raid/hhemati/Datasets/Speech/CL-TTS/VCTK/wavs/p335/p335_077.wav',\n  '/raid/hhemati/Datasets/Speech/CL-TTS/VCTK/wavs/p335/p335_258.wav',\n  '/raid/hhemati/Datasets/Speech/CL-TTS/VCTK/wavs/p335/p335_296.wav',\n  '/raid/hhemati/Datasets/Speech/CL-TTS/VCTK/wavs/p335/p335_001.wav',\n  '/raid/hhemati/Datasets/Speech/CL-TTS/VCTK/wavs/p335/p335_111.wav',\n  '/raid/hhemati/Datasets/Speech/CL-TTS/VCTK/wavs/p335/p335_110.wav'],\n 'd_vectors': None,\n 'speaker_ids': None,\n 'attns': None,\n 'waveform': None,\n 'raw_text': [\"It's about my time as a guitarist.\",\n  'I would not want to be young again.',\n  \"I think we've got the balance right.\",\n  'That gives us a bit of a chance.',\n  'Bin Laden was not mentioned.',\n  'Do you come from Moscow?',\n  'We are not ruling it out.',\n  'You name it, they have it.',\n  'It is a family day out.',\n  \"There's still time for that.\",\n  'But who gets on the tube?',\n  'We knew nothing about it.',\n  'There is no going back.',\n  'There was no cohesion.',\n  'The next one comes up.',\n  'That would be dangerous.',\n  'There is no openness.',\n  'I put pressure on him.',\n  'He said he was sorry.',\n  'It is so damaging.',\n  'Where is the structure?',\n  'But it will backfire.',\n  \"It's been a good year.\",\n  'Who would have thought it?',\n  \"That wasn't for me.\",\n  'This must be wrong.',\n  \"It's just for me.\",\n  'I watched a game.',\n  \"I'd never be free.\",\n  'Please call Stella.',\n  'It is not fair.',\n  'Or was it?'],\n 'pitch': None,\n 'language_ids': None}"
     },
     "execution_count": 8,
     "metadata": {},
     "output_type": "execute_result"
    }
   ],
   "source": [
    "next(iter(data_loader))"
   ],
   "metadata": {
    "collapsed": false,
    "pycharm": {
     "name": "#%%\n"
    }
   }
  },
  {
   "cell_type": "code",
   "execution_count": null,
   "outputs": [],
   "source": [],
   "metadata": {
    "collapsed": false,
    "pycharm": {
     "name": "#%%\n"
    }
   }
  }
 ],
 "metadata": {
  "kernelspec": {
   "display_name": "Python 3",
   "language": "python",
   "name": "python3"
  },
  "language_info": {
   "codemirror_mode": {
    "name": "ipython",
    "version": 2
   },
   "file_extension": ".py",
   "mimetype": "text/x-python",
   "name": "python",
   "nbconvert_exporter": "python",
   "pygments_lexer": "ipython2",
   "version": "2.7.6"
  }
 },
 "nbformat": 4,
 "nbformat_minor": 0
}