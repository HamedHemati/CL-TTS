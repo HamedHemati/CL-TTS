{
 "cells": [
  {
   "cell_type": "code",
   "execution_count": 1,
   "outputs": [],
   "source": [
    "from cl_tts.utils.generic import load_params\n",
    "from cl_tts.benchmarks.vctk_speaker_inc import get_vctk_speaker_incremental_benchmark"
   ],
   "metadata": {
    "collapsed": false,
    "pycharm": {
     "name": "#%%\n"
    }
   }
  },
  {
   "cell_type": "code",
   "execution_count": 4,
   "outputs": [],
   "source": [
    "datasets_root = \"../data/\"\n",
    "dataset_name = \"VCTK-mini\"\n",
    "speaker_list = [\"vctk_speaker335\",\n",
    "                \"vctk_speaker336\",\n",
    "                \"vctk_speaker339\"]\n",
    "\n",
    "ap_params = load_params(\"../hparams/speaker_incremental/naive.yml\")[\"ap_params\"]"
   ],
   "metadata": {
    "collapsed": false,
    "pycharm": {
     "name": "#%%\n"
    }
   }
  },
  {
   "cell_type": "code",
   "execution_count": 5,
   "outputs": [],
   "source": [
    "benchmark, durations = get_vctk_speaker_incremental_benchmark(\n",
    "    datasets_root,\n",
    "    dataset_name,\n",
    "    speaker_list,\n",
    "    ap_params\n",
    ")"
   ],
   "metadata": {
    "collapsed": false,
    "pycharm": {
     "name": "#%%\n"
    }
   }
  },
  {
   "cell_type": "code",
   "execution_count": 8,
   "outputs": [
    {
     "name": "stdout",
     "output_type": "stream",
     "text": [
      "{'vctk_speaker335'}\n",
      "{'vctk_speaker336'}\n",
      "{'vctk_speaker339'}\n"
     ]
    }
   ],
   "source": [
    "for exp in benchmark.train_stream:\n",
    "    print(set(exp.dataset.targets))"
   ],
   "metadata": {
    "collapsed": false,
    "pycharm": {
     "name": "#%%\n"
    }
   }
  },
  {
   "cell_type": "code",
   "execution_count": null,
   "outputs": [],
   "source": [],
   "metadata": {
    "collapsed": false,
    "pycharm": {
     "name": "#%%\n"
    }
   }
  }
 ],
 "metadata": {
  "kernelspec": {
   "display_name": "Python 3",
   "language": "python",
   "name": "python3"
  },
  "language_info": {
   "codemirror_mode": {
    "name": "ipython",
    "version": 2
   },
   "file_extension": ".py",
   "mimetype": "text/x-python",
   "name": "python",
   "nbconvert_exporter": "python",
   "pygments_lexer": "ipython2",
   "version": "2.7.6"
  }
 },
 "nbformat": 4,
 "nbformat_minor": 0
}